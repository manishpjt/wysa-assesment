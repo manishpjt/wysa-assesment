{
 "cells": [
  {
   "cell_type": "code",
   "execution_count": null,
   "id": "f8f57c99",
   "metadata": {},
   "outputs": [],
   "source": [
    "!pip3 install pandas\n",
    "!pip3 install tensorflow-hub\n",
    "!pip install tensorflow-text\n",
    "!pip3 install matplotlib\n",
    "!pip3 install seaborn\n",
    "!pip3 install scikit-learn"
   ]
  },
  {
   "cell_type": "code",
   "execution_count": 1,
   "id": "400806bc",
   "metadata": {},
   "outputs": [],
   "source": [
    "import pandas as pd # for loading and manipulating data\n",
    "import numpy as np # for linear algebra\n",
    "import os # to get list, path etc\n",
    "import seaborn as sns # data visualization\n",
    "\n",
    "import tensorflow as tf # for machine learning\n",
    "import tensorflow_hub as hub # for using pretrained models\n",
    "import tensorflow_text as tf_text # for bert preprocessing\n",
    "\n",
    "from sklearn.metrics import accuracy_score"
   ]
  },
  {
   "cell_type": "code",
   "execution_count": 2,
   "id": "f6f70e30",
   "metadata": {},
   "outputs": [],
   "source": [
    "devices = tf.config.experimental.list_physical_devices(\"GPU\")\n",
    "for device in devices:\n",
    "    tf.config.experimental.set_memory_growth(device, enable=False)"
   ]
  },
  {
   "cell_type": "code",
   "execution_count": 3,
   "id": "2ff98485",
   "metadata": {},
   "outputs": [
    {
     "data": {
      "text/plain": [
       "['ham\\tGo until jurong point, crazy.. Available only in bugis n great world la e buffet... Cine there got amore wat...',\n",
       " 'ham\\tOk lar... Joking wif u oni...',\n",
       " \"spam\\tFree entry in 2 a wkly comp to win FA Cup final tkts 21st May 2005. Text FA to 87121 to receive entry question(std txt rate)T&C's apply 08452810075over18's\",\n",
       " 'ham\\tU dun say so early hor... U c already then say...',\n",
       " \"ham\\tNah I don't think he goes to usf, he lives around here though\"]"
      ]
     },
     "execution_count": 3,
     "metadata": {},
     "output_type": "execute_result"
    }
   ],
   "source": [
    "with open(\"assets/dataset/SMSSpamCollection\", \"r\") as file:\n",
    "    content = file.read().split(\"\\n\")\n",
    "    file.close()\n",
    "content[:5]"
   ]
  },
  {
   "cell_type": "markdown",
   "id": "28438f53",
   "metadata": {},
   "source": [
    "Labels and text are seperated by Tab, hence it's easy for pandas to read"
   ]
  },
  {
   "cell_type": "code",
   "execution_count": 4,
   "id": "6f983b50",
   "metadata": {},
   "outputs": [
    {
     "data": {
      "text/html": [
       "<div><div id=d71833cd-33bd-4549-84ca-a9ba70601524 style=\"display:none; background-color:#9D6CFF; color:white; width:200px; height:30px; padding-left:5px; border-radius:4px; flex-direction:row; justify-content:space-around; align-items:center;\" onmouseover=\"this.style.backgroundColor='#BA9BF8'\" onmouseout=\"this.style.backgroundColor='#9D6CFF'\" onclick=\"window.commands?.execute('create-mitosheet-from-dataframe-output');\">See Full Dataframe in Mito</div> <script> if (window.commands?.hasCommand('create-mitosheet-from-dataframe-output')) document.getElementById('d71833cd-33bd-4549-84ca-a9ba70601524').style.display = 'flex' </script> <table border=\"1\" class=\"dataframe\">\n",
       "  <thead>\n",
       "    <tr style=\"text-align: right;\">\n",
       "      <th></th>\n",
       "      <th>label</th>\n",
       "      <th>text</th>\n",
       "    </tr>\n",
       "  </thead>\n",
       "  <tbody>\n",
       "    <tr>\n",
       "      <th>0</th>\n",
       "      <td>ham</td>\n",
       "      <td>Go until jurong point, crazy.. Available only in bugis n great world la e buffet... Cine there got amore wat...</td>\n",
       "    </tr>\n",
       "    <tr>\n",
       "      <th>1</th>\n",
       "      <td>ham</td>\n",
       "      <td>Ok lar... Joking wif u oni...</td>\n",
       "    </tr>\n",
       "    <tr>\n",
       "      <th>2</th>\n",
       "      <td>spam</td>\n",
       "      <td>Free entry in 2 a wkly comp to win FA Cup final tkts 21st May 2005. Text FA to 87121 to receive entry question(std txt rate)T&amp;C's apply 08452810075over18's</td>\n",
       "    </tr>\n",
       "    <tr>\n",
       "      <th>3</th>\n",
       "      <td>ham</td>\n",
       "      <td>U dun say so early hor... U c already then say...</td>\n",
       "    </tr>\n",
       "    <tr>\n",
       "      <th>4</th>\n",
       "      <td>ham</td>\n",
       "      <td>Nah I don't think he goes to usf, he lives around here though</td>\n",
       "    </tr>\n",
       "  </tbody>\n",
       "</table></div>"
      ],
      "text/plain": [
       "  label                                               text\n",
       "0   ham  Go until jurong point, crazy.. Available only ...\n",
       "1   ham                      Ok lar... Joking wif u oni...\n",
       "2  spam  Free entry in 2 a wkly comp to win FA Cup fina...\n",
       "3   ham  U dun say so early hor... U c already then say...\n",
       "4   ham  Nah I don't think he goes to usf, he lives aro..."
      ]
     },
     "execution_count": 4,
     "metadata": {},
     "output_type": "execute_result"
    }
   ],
   "source": [
    "df = pd.read_csv(\"assets/dataset/SMSSpamCollection\", sep=\"\\t\", names = [\"label\", \"text\"])\n",
    "df.head()"
   ]
  },
  {
   "cell_type": "code",
   "execution_count": 5,
   "id": "824e4125",
   "metadata": {
    "scrolled": false
   },
   "outputs": [
    {
     "name": "stderr",
     "output_type": "stream",
     "text": [
      "c:\\users\\deepblue\\appdata\\local\\programs\\python\\python38\\lib\\site-packages\\seaborn\\_decorators.py:36: FutureWarning: Pass the following variable as a keyword arg: x. From version 0.12, the only valid positional argument will be `data`, and passing other arguments without an explicit keyword will result in an error or misinterpretation.\n",
      "  warnings.warn(\n"
     ]
    },
    {
     "data": {
      "text/plain": [
       "<AxesSubplot:xlabel='label', ylabel='count'>"
      ]
     },
     "execution_count": 5,
     "metadata": {},
     "output_type": "execute_result"
    },
    {
     "data": {
      "image/png": "[encoded data removed]",
      "text/plain": [
       "<Figure size 432x288 with 1 Axes>"
      ]
     },
     "metadata": {
      "needs_background": "light"
     },
     "output_type": "display_data"
    }
   ],
   "source": [
    "sns.countplot(df[\"label\"])"
   ]
  },
  {
   "cell_type": "code",
   "execution_count": 6,
   "id": "b3ab7ca4",
   "metadata": {},
   "outputs": [
    {
     "data": {
      "text/plain": [
       "ham     4825\n",
       "spam     747\n",
       "Name: label, dtype: int64"
      ]
     },
     "execution_count": 6,
     "metadata": {},
     "output_type": "execute_result"
    }
   ],
   "source": [
    "df.label.value_counts()"
   ]
  },
  {
   "cell_type": "code",
   "execution_count": 7,
   "id": "0092d20b",
   "metadata": {},
   "outputs": [],
   "source": [
    "encoded_label = {\"ham\" : 0, \"spam\" : 1}\n",
    "df.label.replace(\"spam\", encoded_label[\"spam\"], inplace=True)\n",
    "df.label.replace(\"ham\", encoded_label[\"ham\"], inplace=True)"
   ]
  },
  {
   "cell_type": "code",
   "execution_count": 8,
   "id": "d749b7a4",
   "metadata": {},
   "outputs": [
    {
     "data": {
      "text/html": [
       "<div><div id=dc598760-ab66-4220-aaa3-6e74332347f6 style=\"display:none; background-color:#9D6CFF; color:white; width:200px; height:30px; padding-left:5px; border-radius:4px; flex-direction:row; justify-content:space-around; align-items:center;\" onmouseover=\"this.style.backgroundColor='#BA9BF8'\" onmouseout=\"this.style.backgroundColor='#9D6CFF'\" onclick=\"window.commands?.execute('create-mitosheet-from-dataframe-output');\">See Full Dataframe in Mito</div> <script> if (window.commands?.hasCommand('create-mitosheet-from-dataframe-output')) document.getElementById('dc598760-ab66-4220-aaa3-6e74332347f6').style.display = 'flex' </script> <table border=\"1\" class=\"dataframe\">\n",
       "  <thead>\n",
       "    <tr style=\"text-align: right;\">\n",
       "      <th></th>\n",
       "      <th>label</th>\n",
       "      <th>text</th>\n",
       "    </tr>\n",
       "  </thead>\n",
       "  <tbody>\n",
       "    <tr>\n",
       "      <th>2</th>\n",
       "      <td>1</td>\n",
       "      <td>Free entry in 2 a wkly comp to win FA Cup final tkts 21st May 2005. Text FA to 87121 to receive entry question(std txt rate)T&amp;C's apply 08452810075over18's</td>\n",
       "    </tr>\n",
       "    <tr>\n",
       "      <th>5</th>\n",
       "      <td>1</td>\n",
       "      <td>FreeMsg Hey there darling it's been 3 week's now and no word back! I'd like some fun you up for it still? Tb ok! XxX std chgs to send, £1.50 to rcv</td>\n",
       "    </tr>\n",
       "    <tr>\n",
       "      <th>8</th>\n",
       "      <td>1</td>\n",
       "      <td>WINNER!! As a valued network customer you have been selected to receivea £900 prize reward! To claim call 09061701461. Claim code KL341. Valid 12 hours only.</td>\n",
       "    </tr>\n",
       "    <tr>\n",
       "      <th>9</th>\n",
       "      <td>1</td>\n",
       "      <td>Had your mobile 11 months or more? U R entitled to Update to the latest colour mobiles with camera for Free! Call The Mobile Update Co FREE on 08002986030</td>\n",
       "    </tr>\n",
       "    <tr>\n",
       "      <th>11</th>\n",
       "      <td>1</td>\n",
       "      <td>SIX chances to win CASH! From 100 to 20,000 pounds txt&gt; CSH11 and send to 87575. Cost 150p/day, 6days, 16+ TsandCs apply Reply HL 4 info</td>\n",
       "    </tr>\n",
       "  </tbody>\n",
       "</table></div>"
      ],
      "text/plain": [
       "    label                                               text\n",
       "2       1  Free entry in 2 a wkly comp to win FA Cup fina...\n",
       "5       1  FreeMsg Hey there darling it's been 3 week's n...\n",
       "8       1  WINNER!! As a valued network customer you have...\n",
       "9       1  Had your mobile 11 months or more? U R entitle...\n",
       "11      1  SIX chances to win CASH! From 100 to 20,000 po..."
      ]
     },
     "execution_count": 8,
     "metadata": {},
     "output_type": "execute_result"
    }
   ],
   "source": [
    "sample = pd.concat([df[df[\"label\"] == encoded_label[\"spam\"]], df[df[\"label\"] == encoded_label[\"ham\"]][:747]])\n",
    "sample.head()"
   ]
  },
  {
   "cell_type": "code",
   "execution_count": 9,
   "id": "38859114",
   "metadata": {},
   "outputs": [
    {
     "name": "stderr",
     "output_type": "stream",
     "text": [
      "c:\\users\\deepblue\\appdata\\local\\programs\\python\\python38\\lib\\site-packages\\seaborn\\_decorators.py:36: FutureWarning: Pass the following variable as a keyword arg: x. From version 0.12, the only valid positional argument will be `data`, and passing other arguments without an explicit keyword will result in an error or misinterpretation.\n",
      "  warnings.warn(\n"
     ]
    },
    {
     "data": {
      "text/plain": [
       "<AxesSubplot:xlabel='label', ylabel='count'>"
      ]
     },
     "execution_count": 9,
     "metadata": {},
     "output_type": "execute_result"
    },
    {
     "data": {
      "image/png": "[encoded data removed]",
      "text/plain": [
       "<Figure size 432x288 with 1 Axes>"
      ]
     },
     "metadata": {
      "needs_background": "light"
     },
     "output_type": "display_data"
    }
   ],
   "source": [
    "sns.countplot(sample[\"label\"])"
   ]
  },
  {
   "cell_type": "code",
   "execution_count": 10,
   "id": "9742b4dd",
   "metadata": {},
   "outputs": [
    {
     "name": "stderr",
     "output_type": "stream",
     "text": [
      "C:\\Users\\Deepblue\\AppData\\Local\\Temp\\ipykernel_22096\\231835530.py:2: FutureWarning: The default value of regex will change from True to False in a future version.\n",
      "  sample.text = sample.text.str.replace('[^\\w\\s]',' ')\n"
     ]
    },
    {
     "data": {
      "text/html": [
       "<div><div id=58093798-91c3-41ac-88db-ecfb606bbf3f style=\"display:none; background-color:#9D6CFF; color:white; width:200px; height:30px; padding-left:5px; border-radius:4px; flex-direction:row; justify-content:space-around; align-items:center;\" onmouseover=\"this.style.backgroundColor='#BA9BF8'\" onmouseout=\"this.style.backgroundColor='#9D6CFF'\" onclick=\"window.commands?.execute('create-mitosheet-from-dataframe-output');\">See Full Dataframe in Mito</div> <script> if (window.commands?.hasCommand('create-mitosheet-from-dataframe-output')) document.getElementById('58093798-91c3-41ac-88db-ecfb606bbf3f').style.display = 'flex' </script> <table border=\"1\" class=\"dataframe\">\n",
       "  <thead>\n",
       "    <tr style=\"text-align: right;\">\n",
       "      <th></th>\n",
       "      <th>label</th>\n",
       "      <th>text</th>\n",
       "    </tr>\n",
       "  </thead>\n",
       "  <tbody>\n",
       "    <tr>\n",
       "      <th>2</th>\n",
       "      <td>1</td>\n",
       "      <td>free entry in 2 a wkly comp to win fa cup final tkts 21st may 2005  text fa to 87121 to receive entry question std txt rate t c s apply 08452810075over18 s</td>\n",
       "    </tr>\n",
       "    <tr>\n",
       "      <th>5</th>\n",
       "      <td>1</td>\n",
       "      <td>freemsg hey there darling it s been 3 week s now and no word back  i d like some fun you up for it still  tb ok  xxx std chgs to send   1 50 to rcv</td>\n",
       "    </tr>\n",
       "    <tr>\n",
       "      <th>8</th>\n",
       "      <td>1</td>\n",
       "      <td>winner   as a valued network customer you have been selected to receivea  900 prize reward  to claim call 09061701461  claim code kl341  valid 12 hours only</td>\n",
       "    </tr>\n",
       "    <tr>\n",
       "      <th>9</th>\n",
       "      <td>1</td>\n",
       "      <td>had your mobile 11 months or more your entitled to update to the latest colour mobiles with camera for free  call the mobile update co free on 08002986030</td>\n",
       "    </tr>\n",
       "    <tr>\n",
       "      <th>11</th>\n",
       "      <td>1</td>\n",
       "      <td>six chances to win cash  from 100 to 20 000 pounds txt  csh11 and send to 87575  cost 150p day  6days  16  tsandcs apply reply hl 4 info</td>\n",
       "    </tr>\n",
       "  </tbody>\n",
       "</table></div>"
      ],
      "text/plain": [
       "    label                                               text\n",
       "2       1  free entry in 2 a wkly comp to win fa cup fina...\n",
       "5       1  freemsg hey there darling it s been 3 week s n...\n",
       "8       1  winner   as a valued network customer you have...\n",
       "9       1  had your mobile 11 months or more your entitle...\n",
       "11      1  six chances to win cash  from 100 to 20 000 po..."
      ]
     },
     "execution_count": 10,
     "metadata": {},
     "output_type": "execute_result"
    }
   ],
   "source": [
    "sample.text = sample.text.str.lower()\n",
    "sample.text = sample.text.str.replace('[^\\w\\s]',' ')\n",
    "sample.text = sample.text.str.replace(\" n \", \"and\")\n",
    "sample.text = sample.text.str.replace(\" u \", \"you\")\n",
    "sample.text = sample.text.str.replace(\" r \", \"are\")\n",
    "sample.head()"
   ]
  },
  {
   "cell_type": "markdown",
   "id": "dc165082",
   "metadata": {},
   "source": [
    "### Split the dataset into training and validation"
   ]
  },
  {
   "cell_type": "code",
   "execution_count": 11,
   "id": "b157533d",
   "metadata": {},
   "outputs": [
    {
     "name": "stdout",
     "output_type": "stream",
     "text": [
      "X_train size: (1120,)\n",
      "X_test size: (374,)\n",
      "y_train size: (1120,)\n",
      "y_test size: (374,)\n"
     ]
    }
   ],
   "source": [
    "from sklearn.model_selection import train_test_split\n",
    "X_train, X_val, y_train, y_val = train_test_split(sample.text, sample.label, test_size = 0.25, shuffle = True, random_state = 42)\n",
    "print(f\"X_train size: {X_train.shape}\")\n",
    "print(f\"X_test size: {X_val.shape}\")\n",
    "print(f\"y_train size: {y_train.shape}\")\n",
    "print(f\"y_test size: {y_val.shape}\")"
   ]
  },
  {
   "cell_type": "code",
   "execution_count": 12,
   "id": "ca23dd77",
   "metadata": {},
   "outputs": [],
   "source": [
    "y_train = y_train.astype(np.float32)\n",
    "y_val = y_val.astype(np.float32)"
   ]
  },
  {
   "cell_type": "markdown",
   "id": "fd1de468",
   "metadata": {},
   "source": [
    "### Preprocessing"
   ]
  },
  {
   "cell_type": "code",
   "execution_count": 13,
   "id": "26876c0d",
   "metadata": {},
   "outputs": [],
   "source": [
    "bert_preprocess = hub.KerasLayer(\"https://tfhub.dev/tensorflow/bert_en_uncased_preprocess/3\")\n",
    "bert_encoder = hub.KerasLayer(\"https://tfhub.dev/tensorflow/small_bert/bert_en_uncased_L-4_H-512_A-8/1\")"
   ]
  },
  {
   "cell_type": "code",
   "execution_count": 14,
   "id": "2f07b5b3",
   "metadata": {},
   "outputs": [],
   "source": [
    "def preprocess(text_input):\n",
    "    preprocessed_text = bert_preprocess(text_input)\n",
    "    embeddings = bert_encoder(preprocessed_text)\n",
    "    return embeddings['pooled_output']"
   ]
  },
  {
   "cell_type": "markdown",
   "id": "3398c1d8",
   "metadata": {},
   "source": [
    "### Dataset pipeline"
   ]
  },
  {
   "cell_type": "code",
   "execution_count": 15,
   "id": "b2067ed4",
   "metadata": {},
   "outputs": [],
   "source": [
    "training_pipeline = tf.data.Dataset.from_tensor_slices((X_train, y_train))\n",
    "training_pipeline = training_pipeline.batch(32)"
   ]
  },
  {
   "cell_type": "markdown",
   "id": "dbef1aaf",
   "metadata": {},
   "source": [
    "### Model"
   ]
  },
  {
   "cell_type": "code",
   "execution_count": 16,
   "id": "73f63592",
   "metadata": {},
   "outputs": [
    {
     "name": "stdout",
     "output_type": "stream",
     "text": [
      "Model: \"classifier\"\n",
      "_________________________________________________________________\n",
      "Layer (type)                 Output Shape              Param #   \n",
      "=================================================================\n",
      "input_layer (InputLayer)     [(None, 512)]             0         \n",
      "_________________________________________________________________\n",
      "dropout (Dropout)            (None, 512)               0         \n",
      "_________________________________________________________________\n",
      "output (Dense)               (None, 1)                 513       \n",
      "_________________________________________________________________\n",
      "activation (Activation)      (None, 1)                 0         \n",
      "=================================================================\n",
      "Total params: 513\n",
      "Trainable params: 513\n",
      "Non-trainable params: 0\n",
      "_________________________________________________________________\n"
     ]
    }
   ],
   "source": [
    "input_ = tf.keras.layers.Input(shape=(512,), name = \"input_layer\", dtype=tf.float32)\n",
    "x = tf.keras.layers.Dropout(0.25, name = \"dropout\")(input_)\n",
    "x = tf.keras.layers.Dense(1, name = \"output\")(x)\n",
    "x = tf.keras.layers.Activation(\"sigmoid\")(x)\n",
    "model = tf.keras.Model(inputs = input_, outputs = x, name = \"classifier\")\n",
    "model.summary()"
   ]
  },
  {
   "cell_type": "code",
   "execution_count": 17,
   "id": "f7c71446",
   "metadata": {},
   "outputs": [],
   "source": [
    "binary_loss = tf.keras.losses.BinaryCrossentropy()\n",
    "optim = tf.keras.optimizers.Adam()"
   ]
  },
  {
   "cell_type": "code",
   "execution_count": 18,
   "id": "a59b9bbe",
   "metadata": {},
   "outputs": [],
   "source": [
    "def train_step(x, y):\n",
    "    with tf.GradientTape() as tape:\n",
    "        x = preprocess(x)\n",
    "        pred = model(x)\n",
    "        loss = binary_loss(pred, y)\n",
    "    gradients = tape.gradient(loss, model.trainable_variables)\n",
    "    optim.apply_gradients(zip(gradients, model.trainable_variables))\n",
    "    return loss"
   ]
  },
  {
   "cell_type": "code",
   "execution_count": 19,
   "id": "477a2d02",
   "metadata": {},
   "outputs": [
    {
     "name": "stdout",
     "output_type": "stream",
     "text": [
      "Epoch: 1 Training loss: 6.3946146965026855 Validation loss: 5.102138042449951 Validation accuracy: 0.7887700534759359\n",
      "Epoch: 2 Training loss: 3.8952574729919434 Validation loss: 3.4134628772735596 Validation accuracy: 0.8796791443850267\n",
      "Epoch: 3 Training loss: 2.739103078842163 Validation loss: 2.6616876125335693 Validation accuracy: 0.8983957219251337\n",
      "Epoch: 4 Training loss: 2.2155067920684814 Validation loss: 2.25187349319458 Validation accuracy: 0.9197860962566845\n",
      "Epoch: 5 Training loss: 1.9212367534637451 Validation loss: 1.993382215499878 Validation accuracy: 0.93048128342246\n",
      "Epoch: 6 Training loss: 1.728792428970337 Validation loss: 1.8118561506271362 Validation accuracy: 0.9358288770053476\n",
      "Epoch: 7 Training loss: 1.590758204460144 Validation loss: 1.6753336191177368 Validation accuracy: 0.9385026737967914\n",
      "Epoch: 8 Training loss: 1.485761284828186 Validation loss: 1.56780207157135 Validation accuracy: 0.9385026737967914\n",
      "Epoch: 9 Training loss: 1.4024028778076172 Validation loss: 1.4802321195602417 Validation accuracy: 0.9385026737967914\n",
      "Epoch: 10 Training loss: 1.334032416343689 Validation loss: 1.4070864915847778 Validation accuracy: 0.9411764705882353\n"
     ]
    }
   ],
   "source": [
    "epochs = 10\n",
    "for epoch in range(epochs):\n",
    "    losses = []\n",
    "    # train model for an epoch\n",
    "    for batch_count, (train_x, train_y) in enumerate(training_pipeline):\n",
    "        loss = train_step(train_x, train_y)\n",
    "        losses.append(loss.numpy())\n",
    "    # validate model's performace\n",
    "    val_pred = model.predict(preprocess(X_val))\n",
    "    val_pred = val_pred.reshape(val_pred.shape[0])\n",
    "    val_loss = binary_loss(val_pred, y_val)\n",
    "    print(f\"Epoch: {epoch + 1} Training loss: {np.mean(losses)} Validation loss: {val_loss.numpy()} Validation accuracy: {accuracy_score((val_pred.reshape(val_pred.shape[0]) > 0.5).astype(np.int8), y_val)}\")"
   ]
  },
  {
   "cell_type": "code",
   "execution_count": 20,
   "id": "d4b5e6ef",
   "metadata": {},
   "outputs": [
    {
     "name": "stdout",
     "output_type": "stream",
     "text": [
      "WARNING:tensorflow:Compiled the loaded model, but the compiled metrics have yet to be built. `model.compile_metrics` will be empty until you train or evaluate the model.\n"
     ]
    },
    {
     "name": "stderr",
     "output_type": "stream",
     "text": [
      "WARNING:tensorflow:Compiled the loaded model, but the compiled metrics have yet to be built. `model.compile_metrics` will be empty until you train or evaluate the model.\n"
     ]
    },
    {
     "name": "stdout",
     "output_type": "stream",
     "text": [
      "INFO:tensorflow:Assets written to: assets/model\\assets\n"
     ]
    },
    {
     "name": "stderr",
     "output_type": "stream",
     "text": [
      "INFO:tensorflow:Assets written to: assets/model\\assets\n"
     ]
    }
   ],
   "source": [
    "if not os.path.exists(\"assets/model\"):\n",
    "    os.mkdir(\"assets/model\")\n",
    "model.save(\"assets/model\")"
   ]
  },
  {
   "cell_type": "code",
   "execution_count": null,
   "id": "f2becdd8",
   "metadata": {},
   "outputs": [],
   "source": []
  }
 ],
 "metadata": {
  "kernelspec": {
   "display_name": "Python 3 (ipykernel)",
   "language": "python",
   "name": "python3"
  },
  "language_info": {
   "codemirror_mode": {
    "name": "ipython",
    "version": 3
   },
   "file_extension": ".py",
   "mimetype": "text/x-python",
   "name": "python",
   "nbconvert_exporter": "python",
   "pygments_lexer": "ipython3",
   "version": "3.8.10"
  }
 },
 "nbformat": 4,
 "nbformat_minor": 5
}
